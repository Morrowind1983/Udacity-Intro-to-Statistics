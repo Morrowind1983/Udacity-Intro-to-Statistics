{
 "cells": [
  {
   "cell_type": "code",
   "execution_count": 1,
   "metadata": {},
   "outputs": [
    {
     "name": "stdout",
     "output_type": "stream",
     "text": [
      "9.0\n"
     ]
    }
   ],
   "source": [
    "#In class you wrote a function mean that computed the mean of a set of numbers\n",
    "#Consider a case where you have already computed the mean of a set of data and\n",
    "#get a single additional number. Given the number of observations in the\n",
    "#existing data, the old mean and the new value, complete the function to return\n",
    "#the correct mean\n",
    "\n",
    "from __future__ import division\n",
    "\n",
    "def mean(oldmean,n,x):\n",
    "    #Insert your code here\n",
    "    return (oldmean * n + x) / (n + 1)\n",
    "\n",
    "currentmean=10\n",
    "currentcount=5\n",
    "new=4\n",
    "\n",
    "print(mean(currentmean,currentcount,new)) #Should print 9"
   ]
  },
  {
   "cell_type": "code",
   "execution_count": 2,
   "metadata": {},
   "outputs": [
    {
     "name": "stdout",
     "output_type": "stream",
     "text": [
      "Correct\n",
      "Correct\n",
      "Correct\n",
      "Correct\n"
     ]
    }
   ],
   "source": [
    "#Compute the likelihood of observing a sequence of die rolls\n",
    "#Likelihood is the probability of getting the specific set of rolls \n",
    "#in the given order\n",
    "#Given a multi-sided die whose labels and probabilities are \n",
    "#given by a Python dictionary called dist and a sequence (list, tuple, string) \n",
    "#of rolls called data, complete the function likelihood\n",
    "#Note that an element of a dictionary can be retrieved by dist[key] where\n",
    "#key is one of the dictionary's keys (e.g. 'A', 'Good'). \n",
    "\n",
    "def likelihood(dist,data):\n",
    "    #Insert your answer here\n",
    "    prob = 1\n",
    "    for item in data:\n",
    "        prob *= dist[item]\n",
    "    return prob\n",
    "\n",
    "tests= [(({'A':0.2,'B':0.2,'C':0.2,'D':0.2,'E':0.2},'ABCEDDECAB'), 1.024e-07),(({'Good':0.6,'Bad':0.2,'Indifferent':0.2},['Good','Bad','Indifferent','Good','Good','Bad']), 0.001728),(({'Z':0.6,'X':0.333,'Y':0.067},'ZXYYZXYXYZY'), 1.07686302456e-08),(({'Z':0.6,'X':0.233,'Y':0.067,'W':0.1},'WXYZYZZZZW'), 8.133206112e-07)]\n",
    "\n",
    "for t,l in tests:\n",
    "    if abs(likelihood(*t)/l-1)<0.01: print('Correct')\n",
    "    else: print('Incorrect')"
   ]
  },
  {
   "cell_type": "code",
   "execution_count": null,
   "metadata": {
    "collapsed": true
   },
   "outputs": [],
   "source": []
  }
 ],
 "metadata": {
  "kernelspec": {
   "display_name": "Python 3",
   "language": "python",
   "name": "python3"
  },
  "language_info": {
   "codemirror_mode": {
    "name": "ipython",
    "version": 3
   },
   "file_extension": ".py",
   "mimetype": "text/x-python",
   "name": "python",
   "nbconvert_exporter": "python",
   "pygments_lexer": "ipython3",
   "version": "3.6.1"
  }
 },
 "nbformat": 4,
 "nbformat_minor": 2
}
