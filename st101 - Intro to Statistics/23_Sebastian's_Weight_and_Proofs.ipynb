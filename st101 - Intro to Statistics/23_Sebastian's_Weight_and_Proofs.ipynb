{
 "cells": [
  {
   "cell_type": "code",
   "execution_count": 1,
   "metadata": {},
   "outputs": [
    {
     "name": "stdout",
     "output_type": "stream",
     "text": [
      "-2.1052631578947368e+20\n",
      "72.82907264512717\n"
     ]
    }
   ],
   "source": [
    "import random\n",
    "from math import sqrt\n",
    "\n",
    "def mean(data):\n",
    "    return sum(data)/len(data)\n",
    "\n",
    "def variance(data):\n",
    "    mu=mean(data)\n",
    "    return sum([(x-mu)**2 for x in data])/len(data)\n",
    "\n",
    "def stddev(data):\n",
    "    return sqrt(variance(data))\n",
    "\n",
    "\n",
    "\n",
    "weight=[80.,85,200,85,69,65,68,66,85,72,85,82,65,105,75,80,\n",
    "    70,74,72,70,80,60,80,75,80,78,63,88.65,90,89,91,1.00E+22,\n",
    "    75,75,90,80,75,-1.00E+22,-1.00E+22,-1.00E+22,86.54,67,70,92,70,76,81,93,\n",
    "    70,85,75,76,79,89,80,73.6,80,80,120,80,70,110,65,80,\n",
    "    250,80,85,81,80,85,80,90,85,85,82,83,80,160,75,75,\n",
    "    80,85,90,80,89,70,90,100,70,80,77,95,120,250,60]\n",
    "\n",
    "print(mean(weight))\n",
    "\n",
    "\n",
    "def calculate_weight(data, z):\n",
    "    # remove outliers\n",
    "    # extract data between lower and upper quartile\n",
    "    datalen = len(data)\n",
    "    extract_data = sorted(data)[datalen // 4 : datalen * 3 // 4]\n",
    "    \n",
    "    # fit Gaussian using MLE\n",
    "    mu = mean(extract_data)\n",
    "    sigma = stddev(extract_data)\n",
    "    \n",
    "    # compute x that corresponds to standard score z\n",
    "    x = mu + z * sigma\n",
    "    return x\n",
    "\n",
    "\n",
    "print(calculate_weight(weight, -2.))"
   ]
  },
  {
   "cell_type": "code",
   "execution_count": null,
   "metadata": {
    "collapsed": true
   },
   "outputs": [],
   "source": []
  }
 ],
 "metadata": {
  "kernelspec": {
   "display_name": "Python 3",
   "language": "python",
   "name": "python3"
  },
  "language_info": {
   "codemirror_mode": {
    "name": "ipython",
    "version": 3
   },
   "file_extension": ".py",
   "mimetype": "text/x-python",
   "name": "python",
   "nbconvert_exporter": "python",
   "pygments_lexer": "ipython3",
   "version": "3.6.1"
  }
 },
 "nbformat": 4,
 "nbformat_minor": 2
}
