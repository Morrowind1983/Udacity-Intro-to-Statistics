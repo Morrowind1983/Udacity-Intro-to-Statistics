{
 "cells": [
  {
   "cell_type": "code",
   "execution_count": 1,
   "metadata": {},
   "outputs": [
    {
     "name": "stdout",
     "output_type": "stream",
     "text": [
      "201.5\n",
      "1.3665447100056567\n",
      "False\n"
     ]
    }
   ],
   "source": [
    "#Write \n",
    "from math import sqrt\n",
    "\n",
    "def mean(l):\n",
    "    return float(sum(l))/len(l)\n",
    "\n",
    "def var(l):\n",
    "    m = mean(l)\n",
    "    return sum([(x-m)**2 for x in l])/len(l)\n",
    "\n",
    "def factor(l):\n",
    "    return 1.96\n",
    "\n",
    "\n",
    "def conf(l):\n",
    "    #Insert your code here\n",
    "    return factor(l) * sqrt(var(l) / len(l))\n",
    "\n",
    "\n",
    "def test(l, h):\n",
    "    #Insert your code here\n",
    "    return abs(h - mean(l)) <= conf(l)\n",
    "\n",
    "\n",
    "l = [199, 200, 201, 202, 203, 204]\n",
    "print(mean(l))\n",
    "print(conf(l))\n",
    "\n",
    "h = 200\n",
    "print(test(l, h))"
   ]
  },
  {
   "cell_type": "code",
   "execution_count": null,
   "metadata": {
    "collapsed": true
   },
   "outputs": [],
   "source": []
  }
 ],
 "metadata": {
  "kernelspec": {
   "display_name": "Python 3",
   "language": "python",
   "name": "python3"
  },
  "language_info": {
   "codemirror_mode": {
    "name": "ipython",
    "version": 3
   },
   "file_extension": ".py",
   "mimetype": "text/x-python",
   "name": "python",
   "nbconvert_exporter": "python",
   "pygments_lexer": "ipython3",
   "version": "3.6.1"
  }
 },
 "nbformat": 4,
 "nbformat_minor": 2
}
