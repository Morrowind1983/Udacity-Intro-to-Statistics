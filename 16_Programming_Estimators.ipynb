{
 "cells": [
  {
   "cell_type": "code",
   "execution_count": 1,
   "metadata": {},
   "outputs": [
    {
     "name": "stdout",
     "output_type": "stream",
     "text": [
      "54.4\n"
     ]
    }
   ],
   "source": [
    "#Complete the mean function to make it return the mean of a list of numbers\n",
    "\n",
    "data1=[49., 66, 24, 98, 37, 64, 98, 27, 56, 93, 68, 78, 22, 25, 11]\n",
    "\n",
    "def mean(data):\n",
    "    #Insert your code here\n",
    "    return sum(data) / len(data)\n",
    "\n",
    "print(mean(data1))"
   ]
  },
  {
   "cell_type": "code",
   "execution_count": 4,
   "metadata": {},
   "outputs": [
    {
     "name": "stdout",
     "output_type": "stream",
     "text": [
      "2\n"
     ]
    }
   ],
   "source": [
    "#Complete the median function to make it return the median of a list of numbers\n",
    "data1=[1,2,5,10,-20]\n",
    "def median(data):\n",
    "    #Insert your code here\n",
    "    return sorted(data)[len(data) // 2]\n",
    "\n",
    "print(median(data1))"
   ]
  },
  {
   "cell_type": "code",
   "execution_count": 8,
   "metadata": {},
   "outputs": [
    {
     "name": "stdout",
     "output_type": "stream",
     "text": [
      "5\n"
     ]
    }
   ],
   "source": [
    "#Complete the mode function to make it return the mode of a list of numbers\n",
    "data1=[1,2,5,10,-20,5,5]\n",
    "def mode(data):\n",
    "    #Insert your code here\n",
    "    max_num = None\n",
    "    for num in data:\n",
    "        icount = data.count(num)\n",
    "        if max_num is None or icount > max_num:\n",
    "            max_num = icount\n",
    "            mode = num\n",
    "    return mode\n",
    "            \n",
    "print(mode(data1))"
   ]
  },
  {
   "cell_type": "code",
   "execution_count": 10,
   "metadata": {},
   "outputs": [
    {
     "name": "stdout",
     "output_type": "stream",
     "text": [
      "62.572884000000045\n"
     ]
    }
   ],
   "source": [
    "#Complete the variance function to make it return the variance of a list of numbers\n",
    "data3=[13.04, 1.32, 22.65, 17.44, 29.54, 23.22, 17.65, 10.12, 26.73, 16.43]\n",
    "def mean(data):\n",
    "    return sum(data)/len(data)\n",
    "def variance(data):\n",
    "    #Insert your code here\n",
    "    return sum([i * i for i in data]) / len(data) - mean(data) ** 2\n",
    "\n",
    "print(variance(data3))"
   ]
  },
  {
   "cell_type": "code",
   "execution_count": 13,
   "metadata": {},
   "outputs": [
    {
     "name": "stdout",
     "output_type": "stream",
     "text": [
      "7.9103023962425105\n"
     ]
    }
   ],
   "source": [
    "#Complete the stddev function to make it return the standard deviation \n",
    "#of a list of numbers\n",
    "from math import sqrt\n",
    "\n",
    "data3=[13.04, 1.32, 22.65, 17.44, 29.54, 23.22, 17.65, 10.12, 26.73, 16.43]\n",
    "\n",
    "def mean(data):\n",
    "    return sum(data)/len(data)\n",
    "def variance(data):\n",
    "    mu=mean(data)\n",
    "    return mean([(x-mu)**2 for x in data])\n",
    "def stddev(data):\n",
    "    #Insert your code here\n",
    "    return sqrt(variance(data))\n",
    "\n",
    "print(stddev(data3))"
   ]
  },
  {
   "cell_type": "code",
   "execution_count": null,
   "metadata": {
    "collapsed": true
   },
   "outputs": [],
   "source": []
  }
 ],
 "metadata": {
  "kernelspec": {
   "display_name": "Python 3",
   "language": "python",
   "name": "python3"
  },
  "language_info": {
   "codemirror_mode": {
    "name": "ipython",
    "version": 3
   },
   "file_extension": ".py",
   "mimetype": "text/x-python",
   "name": "python",
   "nbconvert_exporter": "python",
   "pygments_lexer": "ipython3",
   "version": "3.6.1"
  }
 },
 "nbformat": 4,
 "nbformat_minor": 2
}
