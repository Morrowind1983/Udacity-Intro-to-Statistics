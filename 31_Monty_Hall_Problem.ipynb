{
 "cells": [
  {
   "cell_type": "code",
   "execution_count": 1,
   "metadata": {},
   "outputs": [
    {
     "name": "stdout",
     "output_type": "stream",
     "text": [
      "0.665\n"
     ]
    }
   ],
   "source": [
    "from random import sample\n",
    "\n",
    "N = 1000\n",
    "\n",
    "def simulate(N):\n",
    "    K = 0\n",
    "    ###insert your code here###\n",
    "    for i in range(N):\n",
    "        doors = [1, 2, 3]\n",
    "        \n",
    "        # The correct door\n",
    "        truth = sample(doors, 1)[0]\n",
    "        \n",
    "        # Your choice\n",
    "        guess = sample(doors, 1)[0]\n",
    "        \n",
    "        doors.remove(truth)\n",
    "        if guess != truth:\n",
    "            doors.remove(guess)\n",
    "        \n",
    "        # Open an empty door\n",
    "        monte = sample(doors, 1)[0]\n",
    "        \n",
    "        # Change your choice\n",
    "        guess = 6 - guess - monte\n",
    "        \n",
    "        if guess == truth:\n",
    "            K += 1\n",
    "    return K / N\n",
    "\n",
    "print(simulate(N))"
   ]
  },
  {
   "cell_type": "code",
   "execution_count": null,
   "metadata": {
    "collapsed": true
   },
   "outputs": [],
   "source": []
  }
 ],
 "metadata": {
  "kernelspec": {
   "display_name": "Python 3",
   "language": "python",
   "name": "python3"
  },
  "language_info": {
   "codemirror_mode": {
    "name": "ipython",
    "version": 3
   },
   "file_extension": ".py",
   "mimetype": "text/x-python",
   "name": "python",
   "nbconvert_exporter": "python",
   "pygments_lexer": "ipython3",
   "version": "3.6.1"
  }
 },
 "nbformat": 4,
 "nbformat_minor": 2
}
