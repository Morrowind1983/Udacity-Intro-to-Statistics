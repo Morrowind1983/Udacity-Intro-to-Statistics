{
 "cells": [
  {
   "cell_type": "code",
   "execution_count": 1,
   "metadata": {},
   "outputs": [
    {
     "name": "stdout",
     "output_type": "stream",
     "text": [
      "0.479\n",
      "0.49955880534728186\n"
     ]
    }
   ],
   "source": [
    "#Write a function flip that simulates flipping n fair coins. \n",
    "#It should return a list representing the result of each flip as a 1 or 0\n",
    "#To generate randomness, you can use the function random.random() to get\n",
    "#a number between 0 or 1. Checking if it's less than 0.5 can help your \n",
    "#transform it to be 0 or 1\n",
    "\n",
    "import random\n",
    "from math import sqrt\n",
    "\n",
    "def mean(data):\n",
    "    return sum(data)/len(data)\n",
    "\n",
    "def variance(data):\n",
    "    mu=mean(data)\n",
    "    return sum([(x-mu)**2 for x in data])/len(data)\n",
    "\n",
    "def stddev(data):\n",
    "    return sqrt(variance(data))\n",
    "    \n",
    "\n",
    "def flip(N):\n",
    "    #Insert your code here\n",
    "    return [random.randint(0, 1) for i in range(N)]\n",
    "\n",
    "N=1000\n",
    "f=flip(N)\n",
    "\n",
    "print(mean(f))\n",
    "print(stddev(f))"
   ]
  },
  {
   "cell_type": "code",
   "execution_count": 2,
   "metadata": {},
   "outputs": [
    {
     "data": {
      "image/png": "[encoded data removed]",
      "text/plain": [
       "<matplotlib.figure.Figure at 0x105e37f28>"
      ]
     },
     "metadata": {},
     "output_type": "display_data"
    },
    {
     "name": "stdout",
     "output_type": "stream",
     "text": [
      "0.5002500000000004\n",
      "0.01568787748549815\n"
     ]
    }
   ],
   "source": [
    "#Write a function sample that simulates N sets of coin flips and\n",
    "#returns a list of the proportion of heads in each set of N flips\n",
    "#It may help to use the flip and mean functions that you wrote before\n",
    "\n",
    "import random\n",
    "from math import sqrt\n",
    "from plotting import *\n",
    "\n",
    "def mean(data):\n",
    "    return float(sum(data))/len(data)\n",
    "\n",
    "def variance(data):\n",
    "    mu=mean(data)\n",
    "    return sum([(x-mu)**2 for x in data])/len(data)\n",
    "\n",
    "def stddev(data):\n",
    "    return sqrt(variance(data))\n",
    "    \n",
    "\n",
    "def flip(N):\n",
    "    return [random.randint(0, 1) for x in range(N)]\n",
    "    \n",
    "def sample(N):\n",
    "    #Insert your code here\n",
    "    return [mean(flip(N)) for i in range(N)]\n",
    "\n",
    "N=1000\n",
    "outcomes=sample(N)\n",
    "histplot(outcomes,nbins=30)\n",
    "\n",
    "print(mean(outcomes))\n",
    "print(stddev(outcomes))"
   ]
  },
  {
   "cell_type": "code",
   "execution_count": null,
   "metadata": {
    "collapsed": true
   },
   "outputs": [],
   "source": []
  }
 ],
 "metadata": {
  "kernelspec": {
   "display_name": "Python 3",
   "language": "python",
   "name": "python3"
  },
  "language_info": {
   "codemirror_mode": {
    "name": "ipython",
    "version": 3
   },
   "file_extension": ".py",
   "mimetype": "text/x-python",
   "name": "python",
   "nbconvert_exporter": "python",
   "pygments_lexer": "ipython3",
   "version": "3.6.1"
  }
 },
 "nbformat": 4,
 "nbformat_minor": 2
}
