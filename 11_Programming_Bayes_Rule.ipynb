{
 "cells": [
  {
   "cell_type": "code",
   "execution_count": 1,
   "metadata": {
    "scrolled": true
   },
   "outputs": [
    {
     "name": "stdout",
     "output_type": "stream",
     "text": [
      "0.3\n"
     ]
    }
   ],
   "source": [
    "print(0.3)"
   ]
  },
  {
   "cell_type": "code",
   "execution_count": 2,
   "metadata": {},
   "outputs": [
    {
     "name": "stdout",
     "output_type": "stream",
     "text": [
      "0.3\n"
     ]
    }
   ],
   "source": [
    "#Write a function to return p as described in the video\n",
    "def f(p):\n",
    "    #Insert your code here\n",
    "    return p\n",
    "    \n",
    "print(f(0.3))"
   ]
  },
  {
   "cell_type": "code",
   "execution_count": 3,
   "metadata": {},
   "outputs": [
    {
     "name": "stdout",
     "output_type": "stream",
     "text": [
      "0.9\n"
     ]
    }
   ],
   "source": [
    "#Return the probability of the inverse event (i.e. 1-p)\n",
    "\n",
    "def f(p):\n",
    "    #Insert your code here\n",
    "    return 1 - p\n",
    "\n",
    "print(f(0.1))"
   ]
  },
  {
   "cell_type": "code",
   "execution_count": 4,
   "metadata": {
    "scrolled": true
   },
   "outputs": [
    {
     "name": "stdout",
     "output_type": "stream",
     "text": [
      "0.25\n"
     ]
    }
   ],
   "source": [
    "#Given that the probability of one head is p, return the probability of\n",
    "#two flips resulting in two heads\n",
    "\n",
    "def f(p):\n",
    "    #Insert your code here\n",
    "    return p * p\n",
    "\n",
    "print(f(0.5))"
   ]
  },
  {
   "cell_type": "code",
   "execution_count": 5,
   "metadata": {},
   "outputs": [
    {
     "name": "stdout",
     "output_type": "stream",
     "text": [
      "0.09599999999999997\n"
     ]
    }
   ],
   "source": [
    "#Return the probability of exactly one head in three flips\n",
    "\n",
    "def f(p):\n",
    "    #Insert your code here\n",
    "    return 3 * p * (1 - p) * (1 - p)\n",
    "\n",
    "print(f(0.8))"
   ]
  },
  {
   "cell_type": "code",
   "execution_count": 6,
   "metadata": {},
   "outputs": [
    {
     "name": "stdout",
     "output_type": "stream",
     "text": [
      "0.4\n"
     ]
    }
   ],
   "source": [
    "#Return the probability of flipping one head each from two coins\n",
    "#One coin has a probability of heads of p1 and the other of p2\n",
    "\n",
    "def f(p1, p2):\n",
    "    #Insert your code here\n",
    "    return p1 * p2\n",
    "\n",
    "print(f(0.5, 0.8))"
   ]
  },
  {
   "cell_type": "code",
   "execution_count": 7,
   "metadata": {},
   "outputs": [
    {
     "name": "stdout",
     "output_type": "stream",
     "text": [
      "0.78\n"
     ]
    }
   ],
   "source": [
    "#Two coins have probabilities of heads of p1 andd p2\n",
    "#The probability of selecting the first coin is p0\n",
    "#Return the probability of a flip landing on heads\n",
    "\n",
    "def f(p0, p1, p2):\n",
    "    #Insert your code here\n",
    "    return p0 * p1 + (1 - p0) * p2\n",
    "\n",
    "print(f(0.3, 0.5, 0.9))"
   ]
  },
  {
   "cell_type": "code",
   "execution_count": 8,
   "metadata": {},
   "outputs": [
    {
     "name": "stdout",
     "output_type": "stream",
     "text": [
      "0.26999999999999996\n"
     ]
    }
   ],
   "source": [
    "#Calculate the probability of a positive result given that\n",
    "#p0=P(C)\n",
    "#p1=P(Positive|C)\n",
    "#p2=P(Negative|Not C)\n",
    "\n",
    "def f(p0, p1, p2):\n",
    "    #Insert your code here\n",
    "    return p0 * p1 + (1 - p0) * (1 - p2)\n",
    "\n",
    "print(f(0.1, 0.9, 0.8))"
   ]
  },
  {
   "cell_type": "code",
   "execution_count": 9,
   "metadata": {},
   "outputs": [
    {
     "name": "stdout",
     "output_type": "stream",
     "text": [
      "0.3333333333333334\n"
     ]
    }
   ],
   "source": [
    "#Return the probability of A conditioned on B given that \n",
    "#P(A)=p0, P(B|A)=p1, and P(Not B|Not A)=p2 \n",
    "\n",
    "def f(p0, p1, p2):\n",
    "    #Insert your code here\n",
    "    return p0 * p1 / (p0 * p1 + (1 - p0) * (1 - p2))\n",
    "\n",
    "print(f(0.1, 0.9, 0.8))"
   ]
  },
  {
   "cell_type": "code",
   "execution_count": 10,
   "metadata": {},
   "outputs": [
    {
     "name": "stdout",
     "output_type": "stream",
     "text": [
      "0.013698630136986297\n"
     ]
    }
   ],
   "source": [
    "#Return the probability of A conditioned on Not B given that \n",
    "#P(A)=p0, P(B|A)=p1, and P(Not B|Not A)=p2 \n",
    "\n",
    "def f(p0, p1, p2):\n",
    "    #Insert your code here\n",
    "    return p0 * (1 - p1) / (p0 * (1 - p1) + (1 - p0) * p2)\n",
    "\n",
    "print(f(0.1, 0.9, 0.8))"
   ]
  },
  {
   "cell_type": "code",
   "execution_count": null,
   "metadata": {
    "collapsed": true
   },
   "outputs": [],
   "source": []
  }
 ],
 "metadata": {
  "kernelspec": {
   "display_name": "Python 3",
   "language": "python",
   "name": "python3"
  },
  "language_info": {
   "codemirror_mode": {
    "name": "ipython",
    "version": 3
   },
   "file_extension": ".py",
   "mimetype": "text/x-python",
   "name": "python",
   "nbconvert_exporter": "python",
   "pygments_lexer": "ipython3",
   "version": "3.6.1"
  }
 },
 "nbformat": 4,
 "nbformat_minor": 2
}
